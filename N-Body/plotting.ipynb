{
 "cells": [
  {
   "cell_type": "code",
   "execution_count": null,
   "metadata": {},
   "outputs": [],
   "source": [
    "import pandas as pd\n",
    "import matplotlib.pyplot as plt\n",
    "\n",
    "planet_names = {\n",
    "    0: 'Sun',\n",
    "    1: 'Mercury',\n",
    "    2: 'Venus',\n",
    "    3: 'Earth',\n",
    "    4: 'Mars',\n",
    "    5: 'Jupiter',\n",
    "    6: 'Saturn',\n",
    "    7: 'Uranus',\n",
    "    8: 'Neptune'\n",
    "}\n",
    "\n",
    "planet_colors = {\n",
    "    0: 'yellow',\n",
    "    1: 'grey',\n",
    "    2: 'lightyellow',\n",
    "    3: 'blue',\n",
    "    4: 'red',\n",
    "    5: 'orange',\n",
    "    6: 'gold',\n",
    "    7: 'lightblue',\n",
    "    8: 'darkblue'\n",
    "}\n",
    "\n",
    "file_path = \"/mnt/data/solar_system_data.csv\"\n",
    "data = pd.read_csv(file_path)\n",
    "\n",
    "plt.figure(figsize=(10, 10))\n",
    "\n",
    "for body in range(9): \n",
    "    body_data = data[data['Body'] == body]\n",
    "    plt.plot(body_data['PosX'], body_data['PosY'], label=planet_names[body], color=planet_colors[body])\n",
    "\n",
    "plt.title('Trajectories of All Planets in the Solar System')\n",
    "plt.xlabel('Position X (AU)')\n",
    "plt.ylabel('Position Y (AU)')\n",
    "plt.grid(True)\n",
    "plt.legend()\n",
    "\n",
    "plt.show()\n"
   ]
  }
 ],
 "metadata": {
  "language_info": {
   "name": "python"
  }
 },
 "nbformat": 4,
 "nbformat_minor": 2
}
